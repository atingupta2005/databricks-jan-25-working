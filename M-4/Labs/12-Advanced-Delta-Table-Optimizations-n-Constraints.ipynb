{
 "cells": [
  {
   "cell_type": "markdown",
   "id": "3f49c650",
   "metadata": {
    "lines_to_next_cell": 0
   },
   "source": [
    "# **Advanced Delta Table Optimizations and Constraints - Hands-on Labs**\n",
    "\n",
    "## **Introduction**\n",
    "This hands-on lab document provides **step-by-step exercises** to apply advanced **Delta Table optimizations and constraints** for efficient data processing, storage management, and query performance. The following labs will cover:\n",
    "\n",
    "- **Performance tuning using Z-Ordering, Partitioning, and Data Skipping**\n",
    "- **Implementing Constraints (Primary Keys, NOT NULL, Check Constraints)**\n",
    "- **Compaction techniques (OPTIMIZE) and Storage Retention (VACUUM)**\n",
    "- **Indexing methods like Bloom Filters and Delta Caching**\n",
    "- **Real-world scenarios using Bank Transactions, Loan Foreclosures, and Flights Data**\n",
    "\n",
    "Each lab provides **detailed code, real-world examples, and validation steps** to ensure **scalable, high-performance Delta Lake operations**.\n",
    "\n",
    "---\n",
    "\n",
    "## **Lab 1: Applying Z-Ordering for Faster Query Performance**\n",
    "### **Objective:**\n",
    "- Improve query performance by **clustering frequently queried columns**.\n",
    "\n",
    "### **Step 1: Load Bank Transactions Data into a Delta Table**"
   ]
  },
  {
   "cell_type": "code",
   "execution_count": null,
   "id": "0820f4f1",
   "metadata": {},
   "outputs": [],
   "source": [
    "%%python\n",
    "from pyspark.sql import SparkSession\n",
    "\n",
    "spark = SparkSession.builder.appName(\"DeltaZOrderingLab\").getOrCreate()\n",
    "\n",
    "# Load sample Bank Transactions Data\n",
    "data = [(101, \"C001\", 5000, \"2024-01-01\"),\n",
    "        (102, \"C002\", 7000, \"2024-01-02\"),\n",
    "        (103, \"C001\", 4500, \"2024-01-03\"),\n",
    "        (104, \"C003\", 3000, \"2024-01-04\"),\n",
    "        (105, \"C002\", 8000, \"2024-01-05\")]\n",
    "\n",
    "columns = [\"transaction_id\", \"customer_id\", \"amount\", \"transaction_date\"]\n",
    "\n",
    "df = spark.createDataFrame(data, columns)\n",
    "df.write.format(\"delta\").mode(\"overwrite\").save(\"/mnt/delta/bank_transactions\")"
   ]
  },
  {
   "cell_type": "markdown",
   "id": "1a865a64",
   "metadata": {
    "lines_to_next_cell": 0
   },
   "source": [
    "### **Step 2: Apply Z-Ordering Optimization**"
   ]
  },
  {
   "cell_type": "code",
   "execution_count": null,
   "id": "5c363fb7",
   "metadata": {},
   "outputs": [],
   "source": [
    "OPTIMIZE delta.`/mnt/delta/bank_transactions` ZORDER BY (customer_id);"
   ]
  },
  {
   "cell_type": "markdown",
   "id": "56e2fa52",
   "metadata": {
    "lines_to_next_cell": 0
   },
   "source": [
    "### **Step 3: Validate Optimization with Query Performance**"
   ]
  },
  {
   "cell_type": "code",
   "execution_count": null,
   "id": "e4ebcb05",
   "metadata": {},
   "outputs": [],
   "source": [
    "EXPLAIN FORMATTED SELECT * FROM bank_transactions WHERE customer_id = 'C001';"
   ]
  },
  {
   "cell_type": "markdown",
   "id": "4b01f427",
   "metadata": {
    "lines_to_next_cell": 0
   },
   "source": [
    "**Expected Outcome:**\n",
    "- **Faster queries** on `customer_id` due to improved data locality.\n",
    "\n",
    "---\n",
    "\n",
    "## **Lab 2: Implementing Data Partitioning for Efficient Data Skipping**\n",
    "### **Objective:**\n",
    "- Reduce query scan time by **partitioning data based on transaction date**.\n",
    "\n",
    "### **Step 1: Create a Partitioned Delta Table for Loan Foreclosure Data**"
   ]
  },
  {
   "cell_type": "code",
   "execution_count": null,
   "id": "50b4eb1a",
   "metadata": {},
   "outputs": [],
   "source": [
    "CREATE TABLE loan_foreclosures (\n",
    "    loan_id STRING,\n",
    "    customer_id STRING,\n",
    "    outstanding_balance DOUBLE,\n",
    "    foreclosure_date DATE\n",
    ") USING DELTA\n",
    "PARTITIONED BY (foreclosure_date);"
   ]
  },
  {
   "cell_type": "markdown",
   "id": "0da5c7f9",
   "metadata": {
    "lines_to_next_cell": 0
   },
   "source": [
    "### **Step 2: Load Data into the Partitioned Table**"
   ]
  },
  {
   "cell_type": "code",
   "execution_count": null,
   "id": "08fd385b",
   "metadata": {},
   "outputs": [],
   "source": [
    "%%python\n",
    "loan_df.write.format(\"delta\").mode(\"overwrite\").partitionBy(\"foreclosure_date\").save(\"/mnt/delta/loan_foreclosures\")"
   ]
  },
  {
   "cell_type": "markdown",
   "id": "bb0e04b0",
   "metadata": {
    "lines_to_next_cell": 0
   },
   "source": [
    "### **Step 3: Query Performance Validation**"
   ]
  },
  {
   "cell_type": "code",
   "execution_count": null,
   "id": "41991d6b",
   "metadata": {},
   "outputs": [],
   "source": [
    "SELECT * FROM loan_foreclosures WHERE foreclosure_date = '2024-01-01';"
   ]
  },
  {
   "cell_type": "markdown",
   "id": "f4d057ab",
   "metadata": {
    "lines_to_next_cell": 0
   },
   "source": [
    "**Expected Outcome:**\n",
    "- **Faster queries** by scanning only relevant partitions instead of the entire dataset.\n",
    "\n",
    "---\n",
    "\n",
    "## **Lab 3: Enforcing Data Integrity with Constraints**\n",
    "### **Objective:**\n",
    "- Apply **NOT NULL, Primary Key Simulations, and Check Constraints** to ensure data quality.\n",
    "\n",
    "### **Step 1: Enforce NOT NULL Constraint on Flights Data**"
   ]
  },
  {
   "cell_type": "code",
   "execution_count": null,
   "id": "c8120f15",
   "metadata": {},
   "outputs": [],
   "source": [
    "ALTER TABLE flights ALTER COLUMN departure_time SET NOT NULL;"
   ]
  },
  {
   "cell_type": "markdown",
   "id": "8426ed92",
   "metadata": {
    "lines_to_next_cell": 0
   },
   "source": [
    "### **Step 2: Simulate a Primary Key using Merge**"
   ]
  },
  {
   "cell_type": "code",
   "execution_count": null,
   "id": "3a6e1580",
   "metadata": {},
   "outputs": [],
   "source": [
    "MERGE INTO flights AS t\n",
    "USING updates AS u\n",
    "ON t.flight_id = u.flight_id\n",
    "WHEN MATCHED THEN UPDATE SET t.status = u.status\n",
    "WHEN NOT MATCHED THEN INSERT *;"
   ]
  },
  {
   "cell_type": "markdown",
   "id": "88e77b08",
   "metadata": {
    "lines_to_next_cell": 0
   },
   "source": [
    "### **Step 3: Add a Check Constraint for Flight Status**"
   ]
  },
  {
   "cell_type": "code",
   "execution_count": null,
   "id": "11ba48ed",
   "metadata": {},
   "outputs": [],
   "source": [
    "ALTER TABLE flights ADD CONSTRAINT valid_status CHECK (status IN ('On Time', 'Delayed', 'Cancelled'));"
   ]
  },
  {
   "cell_type": "markdown",
   "id": "76f18c03",
   "metadata": {
    "lines_to_next_cell": 0
   },
   "source": [
    "**Expected Outcome:**\n",
    "- **Prevention of null values** in `departure_time`.\n",
    "- **Primary key simulation** ensures no duplicate `flight_id`.\n",
    "- **Only valid flight statuses are allowed.**\n",
    "\n",
    "---\n",
    "\n",
    "## **Lab 4: Optimizing Storage with Compaction and Retention Policies**\n",
    "### **Objective:**\n",
    "- Improve **query performance** and **reduce small file overhead** using **OPTIMIZE and VACUUM**.\n",
    "\n",
    "### **Step 1: Perform Compaction on Flights Data**"
   ]
  },
  {
   "cell_type": "code",
   "execution_count": null,
   "id": "4be42644",
   "metadata": {},
   "outputs": [],
   "source": [
    "OPTIMIZE flights;"
   ]
  },
  {
   "cell_type": "markdown",
   "id": "d39952a0",
   "metadata": {
    "lines_to_next_cell": 0
   },
   "source": [
    "### **Step 2: Set Retention Policy and Clean Up Old Data**"
   ]
  },
  {
   "cell_type": "code",
   "execution_count": null,
   "id": "13b93d4c",
   "metadata": {},
   "outputs": [],
   "source": [
    "VACUUM flights RETAIN 168 HOURS;"
   ]
  },
  {
   "cell_type": "markdown",
   "id": "a15131d7",
   "metadata": {
    "lines_to_next_cell": 0
   },
   "source": [
    "**Expected Outcome:**\n",
    "- **Optimized query execution** with larger, fewer files.\n",
    "- **Deleted old Delta versions** to free storage.\n",
    "\n",
    "---\n",
    "\n",
    "## **Lab 5: Implementing Bloom Filters for Indexing**\n",
    "### **Objective:**\n",
    "- Speed up **lookup queries** on `customer_id` using **Bloom Filters**.\n",
    "\n",
    "### **Step 1: Enable Bloom Filter Indexing on Bank Transactions**"
   ]
  },
  {
   "cell_type": "code",
   "execution_count": null,
   "id": "70e86e4f",
   "metadata": {},
   "outputs": [],
   "source": [
    "ALTER TABLE bank_transactions SET TBLPROPERTIES ('delta.bloomFilter.columns' = 'customer_id');"
   ]
  },
  {
   "cell_type": "markdown",
   "id": "89ad0903",
   "metadata": {
    "lines_to_next_cell": 0
   },
   "source": [
    "### **Step 2: Query and Compare Performance**"
   ]
  },
  {
   "cell_type": "code",
   "execution_count": null,
   "id": "5dde4962",
   "metadata": {},
   "outputs": [],
   "source": [
    "SELECT * FROM bank_transactions WHERE customer_id = 'C001';"
   ]
  },
  {
   "cell_type": "markdown",
   "id": "2123a191",
   "metadata": {},
   "source": [
    "**Expected Outcome:**\n",
    "- **Significantly faster lookups** on `customer_id` due to indexed filtering.\n",
    "\n",
    "---\n",
    "\n",
    "## **Conclusion**\n",
    "By completing these **hands-on labs**, you have gained expertise in:\n",
    "- **Applying advanced Delta Lake optimizations** (Z-Ordering, Partitioning, and Data Skipping).\n",
    "- **Ensuring data integrity using Constraints (NOT NULL, Check Constraints, Merge-based Primary Key simulation).**\n",
    "- **Improving storage and query performance using Compaction and Retention policies.**\n",
    "- **Leveraging Bloom Filters and Delta Caching for faster lookups.**\n",
    "\n",
    "These labs provide **real-world experience** in building **scalable, high-performance Delta Lake solutions** for **enterprise analytics and real-time data processing**.\n"
   ]
  }
 ],
 "metadata": {
  "jupytext": {
   "cell_metadata_filter": "-all",
   "main_language": "sql",
   "notebook_metadata_filter": "-all"
  }
 },
 "nbformat": 4,
 "nbformat_minor": 5
}
