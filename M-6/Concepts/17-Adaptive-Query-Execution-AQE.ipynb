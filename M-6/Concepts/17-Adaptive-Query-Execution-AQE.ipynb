{
 "cells": [
  {
   "cell_type": "markdown",
   "id": "f90d4946",
   "metadata": {
    "lines_to_next_cell": 0
   },
   "source": [
    "# **Adaptive Query Execution (AQE) - Concepts**\n",
    "\n",
    "## **Introduction**\n",
    "Adaptive Query Execution (**AQE**) is a powerful feature in Apache Spark that dynamically optimizes query plans **at runtime** based on the actual data statistics. Unlike traditional static query optimization, AQE **adjusts execution strategies** based on real-time execution metrics, leading to **better performance, reduced shuffle overhead, and optimized resource utilization**.\n",
    "\n",
    "This document provides a **detailed guide** on understanding and implementing **AQE in Spark** for efficient query execution in **Databricks and cloud-based environments**. It covers:\n",
    "- **Fundamentals of AQE and how it differs from static query planning**\n",
    "- **Key AQE optimization techniques (Shuffle optimizations, Join strategy selection, Skew handling)**\n",
    "- **Use cases and best practices for performance improvement**\n",
    "- **Configuration and tuning strategies in Databricks**\n",
    "\n",
    "---\n",
    "\n",
    "## **1. Understanding Adaptive Query Execution (AQE)**\n",
    "### **1.1 What is AQE?**\n",
    "Adaptive Query Execution (**AQE**) is a runtime optimization technique that dynamically adjusts query execution plans based on **actual query runtime statistics**. It helps overcome inefficiencies in static query plans, making Spark **more flexible and efficient**.\n",
    "\n",
    "### **1.2 How AQE Works**\n",
    "1. **Query Execution Starts**: The query plan is initially optimized based on estimated statistics.\n",
    "2. **Runtime Metrics Collected**: Spark **collects real execution statistics** (e.g., partition sizes, data skew, shuffle metrics).\n",
    "3. **Execution Plan Adjustments**: The optimizer **modifies the execution plan dynamically** based on collected statistics.\n",
    "4. **Optimized Query Execution**: Spark executes the modified, **optimized query plan**, leading to improved performance.\n",
    "\n",
    "### **1.3 AQE vs. Traditional Query Optimization**\n",
    "| Feature            | Static Query Optimization | Adaptive Query Execution (AQE) |\n",
    "|-------------------|--------------------------|--------------------------------|\n",
    "| **Optimization Timing** | Before Execution (Compile Time) | During Execution (Runtime) |\n",
    "| **Data Awareness** | Uses estimated statistics | Uses actual runtime statistics |\n",
    "| **Handling Skewed Data** | Fixed shuffle partitions | Dynamically coalesces partitions |\n",
    "| **Join Strategy Selection** | Based on predefined heuristics | Adaptive join selection based on runtime metrics |\n",
    "\n",
    "---\n",
    "\n",
    "## **2. Key AQE Optimization Techniques**\n",
    "### **2.1 Dynamic Coalescing of Shuffle Partitions**\n",
    "Spark **dynamically adjusts shuffle partitions** to optimize performance and reduce resource wastage.\n",
    "\n",
    "#### **Example: Enabling Dynamic Shuffle Partitioning**"
   ]
  },
  {
   "cell_type": "code",
   "execution_count": null,
   "id": "5902f742",
   "metadata": {},
   "outputs": [],
   "source": [
    "from pyspark.sql import SparkSession\n",
    "\n",
    "spark = SparkSession.builder \\\n",
    "    .appName(\"AQE Example\") \\\n",
    "    .config(\"spark.sql.adaptive.enabled\", \"true\") \\\n",
    "    .config(\"spark.sql.adaptive.coalescePartitions.enabled\", \"true\") \\\n",
    "    .getOrCreate()"
   ]
  },
  {
   "cell_type": "markdown",
   "id": "93f72d6f",
   "metadata": {
    "lines_to_next_cell": 0
   },
   "source": [
    "**Benefits:**\n",
    "- Reduces unnecessary shuffle partitions for small datasets.\n",
    "- Prevents large partitions from being split inefficiently.\n",
    "- Optimizes **join and aggregation performance**.\n",
    "\n",
    "---\n",
    "\n",
    "### **2.2 Dynamic Join Strategy Selection**\n",
    "AQE can switch between **broadcast joins, shuffle joins, and sort-merge joins** based on real-time metrics.\n",
    "\n",
    "#### **Example: Allowing Dynamic Join Rewriting**"
   ]
  },
  {
   "cell_type": "code",
   "execution_count": null,
   "id": "b1b261b9",
   "metadata": {},
   "outputs": [],
   "source": [
    "spark.conf.set(\"spark.sql.adaptive.join.enabled\", \"true\")"
   ]
  },
  {
   "cell_type": "markdown",
   "id": "eadb54f2",
   "metadata": {
    "lines_to_next_cell": 0
   },
   "source": [
    "**How It Works:**\n",
    "- If **one dataset is small enough**, Spark converts a **shuffle join** into a **broadcast join**, reducing shuffle overhead.\n",
    "- If **data sizes change**, Spark can dynamically **switch join strategies**.\n",
    "\n",
    "---\n",
    "\n",
    "### **2.3 Skew Handling in AQE**\n",
    "Data skew **causes performance bottlenecks** when some partitions are much larger than others. AQE automatically **splits skewed partitions into smaller sub-partitions** for better load balancing.\n",
    "\n",
    "#### **Example: Enabling Skew Join Handling**"
   ]
  },
  {
   "cell_type": "code",
   "execution_count": null,
   "id": "7f6e960e",
   "metadata": {},
   "outputs": [],
   "source": [
    "spark.conf.set(\"spark.sql.adaptive.skewJoin.enabled\", \"true\")"
   ]
  },
  {
   "cell_type": "markdown",
   "id": "17682bb5",
   "metadata": {
    "lines_to_next_cell": 0
   },
   "source": [
    "**Benefits:**\n",
    "- **Prevents a single task from slowing down an entire job**.\n",
    "- **Evenly distributes data across cluster nodes**.\n",
    "- **Reduces execution time for skewed queries**.\n",
    "\n",
    "---\n",
    "\n",
    "## **3. Configuring and Tuning AQE in Databricks**\n",
    "### **3.1 Enabling AQE in Databricks**\n",
    "AQE is enabled **by default** in Databricks Runtime **7.3 and later**. However, it can be explicitly configured:"
   ]
  },
  {
   "cell_type": "code",
   "execution_count": null,
   "id": "3523b825",
   "metadata": {},
   "outputs": [],
   "source": [
    "spark.conf.set(\"spark.sql.adaptive.enabled\", \"true\")"
   ]
  },
  {
   "cell_type": "markdown",
   "id": "846a9439",
   "metadata": {},
   "source": [
    "### **3.2 Key AQE Configuration Parameters**\n",
    "| Configuration Parameter | Default Value | Description |\n",
    "|-------------------------|--------------|-------------|\n",
    "| `spark.sql.adaptive.enabled` | `true` | Enables Adaptive Query Execution |\n",
    "| `spark.sql.adaptive.coalescePartitions.enabled` | `true` | Dynamically optimizes shuffle partitions |\n",
    "| `spark.sql.adaptive.join.enabled` | `true` | Enables dynamic join strategy selection |\n",
    "| `spark.sql.adaptive.skewJoin.enabled` | `true` | Splits skewed partitions for better performance |\n",
    "\n",
    "---\n",
    "\n",
    "## **4. Use Cases and Best Practices**\n",
    "### **4.1 When to Use AQE**\n",
    "- **Handling large datasets with varying partition sizes**.\n",
    "- **Optimizing query performance in unpredictable workloads**.\n",
    "- **Reducing shuffle overhead for expensive queries**.\n",
    "\n",
    "### **4.2 Best Practices for AQE Optimization**\n",
    "- **Enable AQE for large-scale transformations** to dynamically adjust plans.\n",
    "- **Use broadcast joins wherever possible** for smaller datasets.\n",
    "- **Regularly monitor query execution plans** to fine-tune AQE settings.\n",
    "- **Combine AQE with Delta Lake** for even better performance optimizations.\n",
    "\n",
    "---\n",
    "\n",
    "## **Conclusion**\n",
    "Adaptive Query Execution (**AQE**) in Apache Spark **revolutionizes query optimization** by dynamically adjusting execution plans based on **runtime statistics**. By leveraging **dynamic shuffle partitioning, join optimizations, and skew handling**, AQE significantly enhances **query performance, scalability, and cost efficiency**.\n",
    "\n",
    "Key takeaways:\n",
    "- AQE **improves execution efficiency** by using **real-time query statistics**.\n",
    "- **Dynamic shuffle coalescing** reduces unnecessary partitions.\n",
    "- **Adaptive join selection** optimizes **query performance automatically**.\n",
    "- **Skew handling** prevents slow-running queries due to imbalanced data distribution.\n",
    "\n",
    "By enabling and fine-tuning **AQE in Databricks**, organizations can **maximize performance while reducing execution costs**.\n"
   ]
  }
 ],
 "metadata": {
  "jupytext": {
   "cell_metadata_filter": "-all",
   "main_language": "python",
   "notebook_metadata_filter": "-all"
  }
 },
 "nbformat": 4,
 "nbformat_minor": 5
}
