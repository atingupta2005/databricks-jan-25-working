{
 "cells": [
  {
   "cell_type": "markdown",
   "id": "9c7f73b7",
   "metadata": {
    "lines_to_next_cell": 0
   },
   "source": [
    "# **Implementing Role-Based Access Control (RBAC) - Concepts**\n",
    "\n",
    "## **Introduction**\n",
    "Role-Based Access Control (**RBAC**) is a security model used to **restrict access to resources** based on predefined **user roles** and permissions. **RBAC ensures** that users only have the necessary permissions required for their job functions, reducing security risks and enhancing compliance.\n",
    "\n",
    "This document provides a **detailed guide** on implementing **RBAC in Databricks, Azure, and cloud-based environments**. It covers:\n",
    "- **Fundamentals of RBAC and access control models**\n",
    "- **RBAC implementation in Databricks (Workspaces, Clusters, and Data Access)**\n",
    "- **Configuring RBAC in Azure and Databricks Workspaces**\n",
    "- **Best practices for managing permissions and securing data**\n",
    "\n",
    "---\n",
    "\n",
    "## **1. Understanding Role-Based Access Control (RBAC)**\n",
    "### **1.1 What is RBAC?**\n",
    "Role-Based Access Control (**RBAC**) is a method of **restricting access** based on the roles assigned to **users, groups, and service accounts**. RBAC operates using:\n",
    "- **Roles**: Define access levels (e.g., Admin, Data Engineer, Data Scientist, Viewer).\n",
    "- **Permissions**: Actions allowed for a role (e.g., Read, Write, Execute).\n",
    "- **Resources**: The objects being accessed (e.g., Clusters, Notebooks, Tables, Jobs).\n",
    "\n",
    "### **1.2 RBAC vs. Traditional Access Control**\n",
    "| Feature | Traditional Access Control | Role-Based Access Control (RBAC) |\n",
    "|---------|---------------------------|-----------------------------------|\n",
    "| **Permission Assignment** | Assigned to users individually | Assigned to predefined roles |\n",
    "| **Scalability** | Hard to scale for large organizations | Easily scalable across teams |\n",
    "| **Security Management** | More difficult to enforce consistency | Centralized access control |\n",
    "\n",
    "### **1.3 Key Benefits of RBAC**\n",
    "- **Enhanced security**: Users only access what they need.\n",
    "- **Simplified management**: Permissions are managed via roles, not individual users.\n",
    "- **Regulatory compliance**: Helps enforce security policies like **GDPR, HIPAA, and SOC 2**.\n",
    "- **Improved collaboration**: Provides controlled access to shared resources.\n",
    "\n",
    "---\n",
    "\n",
    "## **2. Implementing RBAC in Databricks**\n",
    "### **2.1 Databricks Access Control Components**\n",
    "Databricks provides **RBAC controls at multiple levels**:\n",
    "1. **Workspace-Level Permissions**: Controls who can access notebooks, dashboards, and jobs.\n",
    "2. **Cluster-Level Access**: Restricts usage of compute resources.\n",
    "3. **Table-Level Permissions**: Defines access to Delta Lake tables using **Unity Catalog**.\n",
    "4. **Job & Pipeline Permissions**: Determines who can execute workflows.\n",
    "\n",
    "### **2.2 Managing Workspace Permissions in Databricks**\n",
    "#### **Assigning Role-Based Permissions in Databricks**\n",
    "Roles available in Databricks:\n",
    "- **Workspace Admin**: Full access, manages resources and security.\n",
    "- **Developer**: Creates and runs jobs but has limited admin controls.\n",
    "- **Data Analyst**: Can query and analyze data but cannot modify pipelines.\n",
    "- **Viewer**: Read-only access to dashboards and reports.\n",
    "\n",
    "#### **Example: Assigning a Role in Databricks**\n",
    "1. Open **Databricks Workspace** → Navigate to **Admin Console**.\n",
    "2. Go to **User Management** → Select a **user or group**.\n",
    "3. Assign a role (**Admin, Developer, Analyst, or Viewer**).\n",
    "\n",
    "**Expected Outcome:**\n",
    "- Users receive **permissions based on their assigned roles**.\n",
    "\n",
    "---\n",
    "\n",
    "## **3. RBAC for Clusters and Jobs**\n",
    "### **3.1 Managing Cluster Permissions**\n",
    "Cluster access is controlled to ensure **only authorized users can start, terminate, or modify clusters**.\n",
    "\n",
    "| Cluster Access Control | Permission |\n",
    "|------------------------|------------|\n",
    "| **Can Manage** | Full cluster control |\n",
    "| **Can Attach To** | Run jobs on the cluster but cannot modify it |\n",
    "| **No Permissions** | Cannot use the cluster |\n",
    "\n",
    "#### **Example: Assigning Cluster Permissions**"
   ]
  },
  {
   "cell_type": "code",
   "execution_count": null,
   "id": "1238a963",
   "metadata": {},
   "outputs": [],
   "source": [
    "%%python\n",
    "# Assign cluster-level access to a user\n",
    "databricks_clusters_permissions {\n",
    "  cluster_id = \"1234-56789-abcde\"\n",
    "  access_control_list = [\n",
    "    {\n",
    "      user_name = \"data_engineer@databricks.com\"\n",
    "      permission_level = \"CAN_MANAGE\"\n",
    "    }\n",
    "  ]\n",
    "}"
   ]
  },
  {
   "cell_type": "markdown",
   "id": "7d2a32d8",
   "metadata": {
    "lines_to_next_cell": 0
   },
   "source": [
    "**Expected Outcome:**\n",
    "- **Only designated users can modify or attach to a Databricks cluster**.\n",
    "\n",
    "### **3.2 Managing Job Permissions**\n",
    "Databricks **Job Permissions** control who can create, edit, or execute jobs.\n",
    "\n",
    "| Job Permission | Allowed Actions |\n",
    "|---------------|----------------|\n",
    "| **Can Manage** | Modify, delete, run, and manage schedules |\n",
    "| **Can Edit** | Update configurations but cannot delete |\n",
    "| **Can Run** | Execute jobs but cannot edit or delete |\n",
    "\n",
    "#### **Example: Assigning Job Permissions via CLI**"
   ]
  },
  {
   "cell_type": "code",
   "execution_count": null,
   "id": "00027003",
   "metadata": {},
   "outputs": [],
   "source": [
    "%%bash\n",
    "databricks jobs permissions add --job-id 9876 --access-level CAN_RUN --principal user@example.com"
   ]
  },
  {
   "cell_type": "markdown",
   "id": "b465c2e9",
   "metadata": {
    "lines_to_next_cell": 0
   },
   "source": [
    "**Expected Outcome:**\n",
    "- **Users can only perform actions based on assigned permissions**.\n",
    "\n",
    "---\n",
    "\n",
    "## **4. RBAC for Data Access (Unity Catalog)**\n",
    "### **4.1 Enforcing Table-Level Access Control**\n",
    "Databricks **Unity Catalog** provides **fine-grained access control** for Delta Lake tables.\n",
    "\n",
    "#### **Example: Granting Table Access**"
   ]
  },
  {
   "cell_type": "code",
   "execution_count": null,
   "id": "4f615907",
   "metadata": {},
   "outputs": [],
   "source": [
    "GRANT SELECT ON TABLE financial_data TO user@example.com;"
   ]
  },
  {
   "cell_type": "markdown",
   "id": "62b8e593",
   "metadata": {
    "lines_to_next_cell": 0
   },
   "source": [
    "#### **Example: Revoking Access**"
   ]
  },
  {
   "cell_type": "code",
   "execution_count": null,
   "id": "3921b8ad",
   "metadata": {},
   "outputs": [],
   "source": [
    "REVOKE SELECT ON TABLE financial_data FROM user@example.com;"
   ]
  },
  {
   "cell_type": "markdown",
   "id": "5fc4c63e",
   "metadata": {
    "lines_to_next_cell": 0
   },
   "source": [
    "**Expected Outcome:**\n",
    "- Users can **only query tables they have access to**.\n",
    "\n",
    "### **4.2 Configuring Access Control Policies for Unity Catalog**\n",
    "- **Row-Level Security (RLS)**: Limits data visibility based on user attributes.\n",
    "- **Column-Level Security (CLS)**: Restricts access to sensitive columns (e.g., SSN, Credit Card Info).\n",
    "\n",
    "#### **Example: Restricting Access to Sensitive Data Columns**"
   ]
  },
  {
   "cell_type": "code",
   "execution_count": null,
   "id": "15df9286",
   "metadata": {},
   "outputs": [],
   "source": [
    "ALTER TABLE customer_info MASKING POLICY mask_ssn ON (ssn) TO role restricted_access;"
   ]
  },
  {
   "cell_type": "markdown",
   "id": "ec18d375",
   "metadata": {},
   "source": [
    "**Expected Outcome:**\n",
    "- Sensitive columns are masked for unauthorized users.\n",
    "\n",
    "---\n",
    "\n",
    "## **5. Best Practices for RBAC Implementation**\n",
    "### **5.1 Best Practices for Secure RBAC Management**\n",
    "- **Use groups instead of assigning permissions to individual users**.\n",
    "- **Follow the principle of least privilege (PoLP)**—grant only required access.\n",
    "- **Regularly review and audit access logs** to detect anomalies.\n",
    "- **Use automated scripts to manage permissions at scale**.\n",
    "- **Enforce multi-factor authentication (MFA) for privileged accounts**.\n",
    "\n",
    "### **5.2 Monitoring and Auditing RBAC**\n",
    "- **Enable Databricks Audit Logs** to track access and role changes.\n",
    "- **Use Azure Monitor or AWS CloudTrail** to track security incidents.\n",
    "- **Automate periodic permission reviews** using scheduled reports.\n",
    "\n",
    "---\n",
    "\n",
    "## **Conclusion**\n",
    "Implementing **Role-Based Access Control (RBAC) in Databricks** ensures **secure and efficient resource management**. By leveraging **role-based permissions**, organizations can **enhance security, improve compliance, and simplify access management**.\n",
    "\n",
    "Key takeaways:\n",
    "- **RBAC provides centralized access control**, ensuring users only have necessary privileges.\n",
    "- **Databricks supports RBAC across Workspaces, Clusters, Jobs, and Data Access**.\n",
    "- **Using Unity Catalog enforces fine-grained data security** with row/column-level restrictions.\n",
    "- **Following best practices ensures RBAC policies remain secure, scalable, and compliant**.\n",
    "\n",
    "By implementing **RBAC correctly**, organizations can **protect sensitive data, enforce governance, and improve operational efficiency in Databricks environments**.\n"
   ]
  }
 ],
 "metadata": {
  "jupytext": {
   "cell_metadata_filter": "-all",
   "main_language": "sql",
   "notebook_metadata_filter": "-all"
  }
 },
 "nbformat": 4,
 "nbformat_minor": 5
}
