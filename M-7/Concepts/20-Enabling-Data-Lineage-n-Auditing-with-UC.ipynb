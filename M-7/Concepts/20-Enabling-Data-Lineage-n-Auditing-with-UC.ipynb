{
 "cells": [
  {
   "cell_type": "markdown",
   "id": "e4b28d58",
   "metadata": {
    "lines_to_next_cell": 0
   },
   "source": [
    "# **Enabling Data Lineage and Auditing with Unity Catalog - Concepts**\n",
    "\n",
    "## **Introduction**\n",
    "In modern data platforms, **data lineage and auditing** are critical for ensuring **data governance, security, and compliance**. Unity Catalog in **Databricks** provides **built-in data lineage tracking** and **auditing capabilities**, enabling organizations to:\n",
    "- **Track data flow** across tables, views, and downstream applications.\n",
    "- **Ensure compliance with regulatory requirements** (GDPR, HIPAA, etc.).\n",
    "- **Monitor access patterns** and detect unauthorized activities.\n",
    "\n",
    "This document provides a **detailed guide** on enabling **data lineage and auditing using Unity Catalog**. It covers:\n",
    "- **Understanding data lineage and its importance**.\n",
    "- **Configuring Unity Catalog for data lineage tracking**.\n",
    "- **Implementing data auditing to monitor access and modifications**.\n",
    "- **Best practices for governance, security, and compliance**.\n",
    "\n",
    "---\n",
    "\n",
    "## **1. Understanding Data Lineage and Auditing**\n",
    "### **1.1 What is Data Lineage?**\n",
    "**Data lineage** refers to the ability to track the **origins, transformations, and movement** of data across systems.\n",
    "\n",
    "### **1.2 Why is Data Lineage Important?**\n",
    "- **Data Governance**: Helps organizations understand how data is created, transformed, and consumed.\n",
    "- **Impact Analysis**: Identifies dependencies and downstream effects of changes.\n",
    "- **Debugging & Troubleshooting**: Identifies errors and inconsistencies in data pipelines.\n",
    "- **Regulatory Compliance**: Ensures transparency and accountability for data handling.\n",
    "\n",
    "### **1.3 What is Data Auditing?**\n",
    "Data auditing refers to the **tracking and recording of data access, modifications, and security events** to:\n",
    "- **Ensure compliance with data policies**.\n",
    "- **Identify unauthorized access** or suspicious activities.\n",
    "- **Monitor data modifications and lineage changes**.\n",
    "\n",
    "---\n",
    "\n",
    "## **2. Enabling Data Lineage in Unity Catalog**\n",
    "### **2.1 Data Lineage Architecture in Unity Catalog**\n",
    "Unity Catalog automatically **captures data lineage** at multiple levels:\n",
    "- **Table-Level Lineage**: Tracks which queries created or modified a table.\n",
    "- **Column-Level Lineage**: Identifies transformations applied to specific columns.\n",
    "- **Notebook & Job Lineage**: Associates data changes with specific jobs and users.\n",
    "\n",
    "### **2.2 Enabling Data Lineage Tracking**\n",
    "Unity Catalog **automatically records** lineage when a table is registered within it.\n",
    "\n",
    "#### **Step 1: Enable Unity Catalog in Databricks**\n",
    "1. Open **Databricks Admin Console** → Navigate to **Unity Catalog**.\n",
    "2. Enable **lineage tracking** for all tables and views.\n",
    "\n",
    "#### **Step 2: View Lineage in Databricks UI**\n",
    "1. Open the **Unity Catalog**.\n",
    "2. Select a **database** → Click on a **table**.\n",
    "3. Navigate to the **Lineage Tab** to view data flow.\n",
    "\n",
    "**Expected Outcome:**\n",
    "- Unity Catalog displays **table-level and column-level lineage**.\n",
    "\n",
    "#### **Example: Querying Data Lineage Using SQL**"
   ]
  },
  {
   "cell_type": "code",
   "execution_count": null,
   "id": "ba57940b",
   "metadata": {},
   "outputs": [],
   "source": [
    "SELECT * FROM system.information_schema.table_lineage WHERE table_name = 'sales_data';"
   ]
  },
  {
   "cell_type": "markdown",
   "id": "8d253974",
   "metadata": {
    "lines_to_next_cell": 0
   },
   "source": [
    "---\n",
    "\n",
    "## **3. Implementing Data Auditing in Unity Catalog**\n",
    "### **3.1 Enabling Audit Logging in Unity Catalog**\n",
    "Audit logs **track and store** key security and compliance events.\n",
    "\n",
    "#### **Step 1: Configure Audit Logs for Databricks**\n",
    "1. Go to **Azure Monitor → Diagnostic Settings**.\n",
    "2. Enable **Databricks Audit Logs**.\n",
    "3. Choose **Storage Account or Event Hub** to store logs.\n",
    "\n",
    "### **3.2 Monitoring Data Access Logs**\n",
    "Use SQL queries to monitor **who accessed which tables and when**.\n",
    "\n",
    "#### **Example: Checking Data Access Logs**"
   ]
  },
  {
   "cell_type": "code",
   "execution_count": null,
   "id": "38631823",
   "metadata": {},
   "outputs": [],
   "source": [
    "SELECT user_name, action, table_name, event_time\n",
    "FROM system.information_schema.audit_logs\n",
    "WHERE action IN ('SELECT', 'INSERT', 'UPDATE', 'DELETE')\n",
    "ORDER BY event_time DESC;"
   ]
  },
  {
   "cell_type": "markdown",
   "id": "62370e7f",
   "metadata": {},
   "source": [
    "**Expected Outcome:**\n",
    "- The query returns a **history of all data access events**.\n",
    "\n",
    "---\n",
    "\n",
    "## **4. Best Practices for Data Lineage and Auditing**\n",
    "### **4.1 Best Practices for Data Lineage**\n",
    "- **Enable automatic lineage tracking** for all datasets.\n",
    "- **Use column-level lineage** to track specific transformations.\n",
    "- **Integrate lineage with business metadata** for enhanced governance.\n",
    "\n",
    "### **4.2 Best Practices for Data Auditing**\n",
    "- **Regularly review audit logs** for unusual data access patterns.\n",
    "- **Set up alerts** for unauthorized data access attempts.\n",
    "- **Retain audit logs** as per compliance policies (e.g., retain logs for 1 year).\n",
    "\n",
    "---\n",
    "\n",
    "## **Conclusion**\n",
    "Enabling **Data Lineage and Auditing with Unity Catalog** helps organizations ensure **data transparency, security, and compliance**.\n",
    "\n",
    "Key takeaways:\n",
    "- **Data Lineage** tracks the full lifecycle of data from ingestion to consumption.\n",
    "- **Unity Catalog enables automatic lineage tracking** for tables, columns, and notebooks.\n",
    "- **Audit logs provide visibility into data access and modifications**.\n",
    "- **Implementing best practices ensures compliance with regulatory requirements**.\n",
    "\n",
    "By adopting **data lineage and auditing** in Databricks, organizations can **enhance trust in data, improve governance, and maintain security**.\n"
   ]
  }
 ],
 "metadata": {
  "jupytext": {
   "cell_metadata_filter": "-all",
   "main_language": "sql",
   "notebook_metadata_filter": "-all"
  }
 },
 "nbformat": 4,
 "nbformat_minor": 5
}
