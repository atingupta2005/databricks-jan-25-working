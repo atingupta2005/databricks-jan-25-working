{
 "cells": [
  {
   "cell_type": "markdown",
   "id": "7705d018",
   "metadata": {
    "lines_to_next_cell": 0
   },
   "source": [
    "# **Enabling Data Lineage and Auditing with Unity Catalog - Hands-on Labs**\n",
    "\n",
    "## **Introduction**\n",
    "This hands-on lab document provides **detailed, step-by-step exercises** to implement **data lineage and auditing using Unity Catalog in Databricks**. These labs will cover:\n",
    "- **Enabling and verifying data lineage tracking**.\n",
    "- **Auditing data access and modifications**.\n",
    "- **Querying lineage metadata for compliance and impact analysis**.\n",
    "- **Best practices for managing lineage and audit logs**.\n",
    "\n",
    "Each lab includes **real-world examples**, **step-by-step instructions**, and **SQL queries** to ensure **secure and transparent data governance**.\n",
    "\n",
    "---\n",
    "\n",
    "## **Lab 1: Enabling and Viewing Data Lineage in Unity Catalog**\n",
    "### **Objective:**\n",
    "- Enable and validate **automatic data lineage tracking** in Unity Catalog.\n",
    "\n",
    "### **Step 1: Register a Table in Unity Catalog**"
   ]
  },
  {
   "cell_type": "code",
   "execution_count": null,
   "id": "da15e6db",
   "metadata": {},
   "outputs": [],
   "source": [
    "CREATE TABLE unity_catalog.sales_data (\n",
    "    order_id STRING,\n",
    "    customer_id STRING,\n",
    "    order_date DATE,\n",
    "    amount DECIMAL(10,2)\n",
    ") USING DELTA;"
   ]
  },
  {
   "cell_type": "markdown",
   "id": "c58a0d72",
   "metadata": {
    "lines_to_next_cell": 0
   },
   "source": [
    "### **Step 2: Perform Data Transformations**"
   ]
  },
  {
   "cell_type": "code",
   "execution_count": null,
   "id": "1c8df7ef",
   "metadata": {},
   "outputs": [],
   "source": [
    "CREATE TABLE unity_catalog.aggregated_sales AS\n",
    "SELECT customer_id, SUM(amount) AS total_spent\n",
    "FROM unity_catalog.sales_data\n",
    "GROUP BY customer_id;"
   ]
  },
  {
   "cell_type": "markdown",
   "id": "f5c3c5ec",
   "metadata": {
    "lines_to_next_cell": 0
   },
   "source": [
    "### **Step 3: View Lineage in Databricks UI**\n",
    "1. Open **Databricks Unity Catalog**.\n",
    "2. Navigate to **sales_data** table.\n",
    "3. Click the **Lineage Tab** to see transformations.\n",
    "\n",
    "**Expected Outcome:**\n",
    "- **Table-level and column-level lineage** is displayed in Unity Catalog.\n",
    "\n",
    "---\n",
    "\n",
    "## **Lab 2: Querying Lineage Metadata for Compliance**\n",
    "### **Objective:**\n",
    "- Use **system tables** to query lineage metadata.\n",
    "\n",
    "### **Step 1: Retrieve Lineage Information**"
   ]
  },
  {
   "cell_type": "code",
   "execution_count": null,
   "id": "bade589a",
   "metadata": {},
   "outputs": [],
   "source": [
    "SELECT * FROM system.information_schema.table_lineage\n",
    "WHERE table_name = 'aggregated_sales';"
   ]
  },
  {
   "cell_type": "markdown",
   "id": "f9e7507e",
   "metadata": {
    "lines_to_next_cell": 0
   },
   "source": [
    "### **Step 2: Identify Upstream and Downstream Dependencies**"
   ]
  },
  {
   "cell_type": "code",
   "execution_count": null,
   "id": "16c04fa0",
   "metadata": {},
   "outputs": [],
   "source": [
    "SELECT upstream_table, downstream_table, column_lineage\n",
    "FROM system.information_schema.column_lineage\n",
    "WHERE downstream_table = 'aggregated_sales';"
   ]
  },
  {
   "cell_type": "markdown",
   "id": "439bba83",
   "metadata": {
    "lines_to_next_cell": 0
   },
   "source": [
    "**Expected Outcome:**\n",
    "- The queries return **all transformations and dependencies** for the specified table.\n",
    "\n",
    "---\n",
    "\n",
    "## **Lab 3: Enabling and Configuring Audit Logging in Unity Catalog**\n",
    "### **Objective:**\n",
    "- Enable **audit logging** to track user activity.\n",
    "\n",
    "### **Step 1: Enable Databricks Audit Logs in Azure**\n",
    "1. Open **Azure Portal** → Navigate to **Azure Monitor**.\n",
    "2. Select **Diagnostic Settings** for your Databricks workspace.\n",
    "3. Enable **Audit Logs** and configure storage in **Azure Blob Storage** or **Event Hub**.\n",
    "\n",
    "### **Step 2: Verify Logging Configuration**\n",
    "- Run the following command to check if audit logs are enabled:"
   ]
  },
  {
   "cell_type": "code",
   "execution_count": null,
   "id": "0c16fe2e",
   "metadata": {},
   "outputs": [],
   "source": [
    "%%bash\n",
    "az monitor diagnostic-settings list --resource <databricks_workspace_id>"
   ]
  },
  {
   "cell_type": "markdown",
   "id": "18c6d902",
   "metadata": {
    "lines_to_next_cell": 0
   },
   "source": [
    "**Expected Outcome:**\n",
    "- **Audit logs are being stored** in the configured location.\n",
    "\n",
    "---\n",
    "\n",
    "## **Lab 4: Querying Audit Logs for Data Access Tracking**\n",
    "### **Objective:**\n",
    "- Identify **who accessed data and when**.\n",
    "\n",
    "### **Step 1: Query Data Access Logs**"
   ]
  },
  {
   "cell_type": "code",
   "execution_count": null,
   "id": "c99e4294",
   "metadata": {},
   "outputs": [],
   "source": [
    "SELECT user_name, action, table_name, event_time\n",
    "FROM system.information_schema.audit_logs\n",
    "WHERE action IN ('SELECT', 'INSERT', 'UPDATE', 'DELETE')\n",
    "ORDER BY event_time DESC;"
   ]
  },
  {
   "cell_type": "markdown",
   "id": "10a613ba",
   "metadata": {
    "lines_to_next_cell": 0
   },
   "source": [
    "### **Step 2: Investigate Unauthorized Access Attempts**"
   ]
  },
  {
   "cell_type": "code",
   "execution_count": null,
   "id": "c23d8cce",
   "metadata": {},
   "outputs": [],
   "source": [
    "SELECT user_name, action, table_name, event_time\n",
    "FROM system.information_schema.audit_logs\n",
    "WHERE action = 'DENIED';"
   ]
  },
  {
   "cell_type": "markdown",
   "id": "5d4be8db",
   "metadata": {},
   "source": [
    "**Expected Outcome:**\n",
    "- The logs display **who accessed which tables** and **any denied access attempts**.\n",
    "\n",
    "---\n",
    "\n",
    "## **Lab 5: Setting Up Alerts for Unauthorized Access**\n",
    "### **Objective:**\n",
    "- Configure **alerts for unauthorized data access**.\n",
    "\n",
    "### **Step 1: Create an Alert in Azure Monitor**\n",
    "1. Open **Azure Monitor** → Click **Alerts**.\n",
    "2. Create a **New Alert Rule**.\n",
    "3. Set condition: **Log query → Filter action = 'DENIED'**.\n",
    "4. Set action: **Send Email Notification to Security Team**.\n",
    "\n",
    "**Expected Outcome:**\n",
    "- An alert is triggered whenever **unauthorized access** is attempted.\n",
    "\n",
    "---\n",
    "\n",
    "## **Conclusion**\n",
    "By completing these **hands-on labs**, you have learned how to:\n",
    "- **Enable data lineage tracking** in Unity Catalog.\n",
    "- **Query lineage metadata to track transformations**.\n",
    "- **Configure and analyze audit logs for security monitoring**.\n",
    "- **Set up alerts for unauthorized data access attempts**.\n",
    "\n",
    "These labs provide **real-world experience** in enforcing **data transparency, governance, and security best practices** in **Databricks and cloud environments**.\n"
   ]
  }
 ],
 "metadata": {
  "jupytext": {
   "cell_metadata_filter": "-all",
   "main_language": "sql",
   "notebook_metadata_filter": "-all"
  }
 },
 "nbformat": 4,
 "nbformat_minor": 5
}
