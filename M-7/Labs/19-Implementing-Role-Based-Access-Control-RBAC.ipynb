{
 "cells": [
  {
   "cell_type": "markdown",
   "id": "25ea8071",
   "metadata": {
    "lines_to_next_cell": 0
   },
   "source": [
    "# **Implementing Role-Based Access Control (RBAC) - Hands-on Labs**\n",
    "\n",
    "## **Introduction**\n",
    "This hands-on lab document provides **detailed, step-by-step exercises** to implement **Role-Based Access Control (RBAC) in Databricks, Azure, and cloud-based environments**. These labs will cover:\n",
    "- **Configuring workspace-level access control**.\n",
    "- **Managing cluster and job permissions**.\n",
    "- **Implementing RBAC for Unity Catalog and Delta Lake**.\n",
    "- **Monitoring and auditing role-based access**.\n",
    "\n",
    "Each lab includes **real-world examples**, **step-by-step instructions**, and **sample configurations** to ensure **secure access management**.\n",
    "\n",
    "---\n",
    "\n",
    "## **Lab 1: Configuring Workspace-Level Permissions in Databricks**\n",
    "### **Objective:**\n",
    "- Assign user roles to restrict or grant access to **notebooks, dashboards, and workspace assets**.\n",
    "\n",
    "### **Step 1: Assign a Role in Databricks Workspace**\n",
    "1. Open **Databricks Workspace** → Navigate to **Admin Console**.\n",
    "2. Select **User Management**.\n",
    "3. Choose a user or group and assign a **role**:\n",
    "   - **Admin**: Full control over the workspace.\n",
    "   - **Developer**: Can create and run notebooks/jobs.\n",
    "   - **Viewer**: Read-only access.\n",
    "\n",
    "### **Step 2: Verify Role Assignment**\n",
    "- Log in as the assigned user and verify that actions are restricted based on the assigned role.\n",
    "\n",
    "**Expected Outcome:**\n",
    "- Users can only perform actions permitted by their assigned roles.\n",
    "\n",
    "---\n",
    "\n",
    "## **Lab 2: Managing Cluster-Level Access**\n",
    "### **Objective:**\n",
    "- Configure **access control for clusters** to restrict who can attach, manage, or terminate clusters.\n",
    "\n",
    "### **Step 1: Assign Cluster Permissions**"
   ]
  },
  {
   "cell_type": "code",
   "execution_count": null,
   "id": "f0ccb952",
   "metadata": {},
   "outputs": [],
   "source": [
    "%%python\n",
    "# Assign cluster-level access to a user\n",
    "databricks_clusters_permissions {\n",
    "  cluster_id = \"1234-56789-abcde\"\n",
    "  access_control_list = [\n",
    "    {\n",
    "      user_name = \"data_engineer@databricks.com\"\n",
    "      permission_level = \"CAN_MANAGE\"\n",
    "    }\n",
    "  ]\n",
    "}"
   ]
  },
  {
   "cell_type": "markdown",
   "id": "959f35bd",
   "metadata": {
    "lines_to_next_cell": 0
   },
   "source": [
    "### **Step 2: Verify Cluster Access**\n",
    "- Attempt to start/terminate a cluster as an unauthorized user.\n",
    "\n",
    "**Expected Outcome:**\n",
    "- Only authorized users can manage the cluster.\n",
    "\n",
    "---\n",
    "\n",
    "## **Lab 3: Implementing RBAC for Jobs**\n",
    "### **Objective:**\n",
    "- Assign **permissions for Databricks jobs** to control who can create, run, or manage them.\n",
    "\n",
    "### **Step 1: Assign Job Permissions Using CLI**"
   ]
  },
  {
   "cell_type": "code",
   "execution_count": null,
   "id": "c6e43a94",
   "metadata": {},
   "outputs": [],
   "source": [
    "%%bash\n",
    "databricks jobs permissions add --job-id 9876 --access-level CAN_RUN --principal user@example.com"
   ]
  },
  {
   "cell_type": "markdown",
   "id": "9a62549e",
   "metadata": {
    "lines_to_next_cell": 0
   },
   "source": [
    "### **Step 2: Validate Job Execution**\n",
    "- Log in as the assigned user and attempt to **run, modify, or delete** the job.\n",
    "\n",
    "**Expected Outcome:**\n",
    "- Users can only perform job actions that match their permission level.\n",
    "\n",
    "---\n",
    "\n",
    "## **Lab 4: Securing Table Access Using Unity Catalog**\n",
    "### **Objective:**\n",
    "- Configure **fine-grained table access** for Delta Lake using Unity Catalog.\n",
    "\n",
    "### **Step 1: Grant Table Access**"
   ]
  },
  {
   "cell_type": "code",
   "execution_count": null,
   "id": "dc64a37c",
   "metadata": {},
   "outputs": [],
   "source": [
    "GRANT SELECT ON TABLE financial_data TO user@example.com;"
   ]
  },
  {
   "cell_type": "markdown",
   "id": "b0287d00",
   "metadata": {
    "lines_to_next_cell": 0
   },
   "source": [
    "### **Step 2: Verify Restricted Access**"
   ]
  },
  {
   "cell_type": "code",
   "execution_count": null,
   "id": "f347a0a7",
   "metadata": {},
   "outputs": [],
   "source": [
    "SELECT * FROM financial_data;"
   ]
  },
  {
   "cell_type": "markdown",
   "id": "2de15fd0",
   "metadata": {
    "lines_to_next_cell": 0
   },
   "source": [
    "- Try querying the table as a **user without SELECT permissions**.\n",
    "\n",
    "**Expected Outcome:**\n",
    "- Unauthorized users should be blocked from accessing the table.\n",
    "\n",
    "---\n",
    "\n",
    "## **Lab 5: Enforcing Column-Level and Row-Level Security**\n",
    "### **Objective:**\n",
    "- Mask sensitive data and enforce **row-level restrictions**.\n",
    "\n",
    "### **Step 1: Apply Column Masking for Sensitive Data**"
   ]
  },
  {
   "cell_type": "code",
   "execution_count": null,
   "id": "6b7ff824",
   "metadata": {},
   "outputs": [],
   "source": [
    "ALTER TABLE customer_info MASKING POLICY mask_ssn ON (ssn) TO role restricted_access;"
   ]
  },
  {
   "cell_type": "markdown",
   "id": "c5159f5c",
   "metadata": {
    "lines_to_next_cell": 0
   },
   "source": [
    "### **Step 2: Restrict Row Access Based on User Role**"
   ]
  },
  {
   "cell_type": "code",
   "execution_count": null,
   "id": "c2e7ef2a",
   "metadata": {},
   "outputs": [],
   "source": [
    "CREATE ROW ACCESS POLICY region_policy\n",
    "  ON customer_info\n",
    "  FOR ROWS WHERE region = CURRENT_USER_REGION();"
   ]
  },
  {
   "cell_type": "markdown",
   "id": "d3d83674",
   "metadata": {},
   "source": [
    "**Expected Outcome:**\n",
    "- Sensitive columns are **masked** for unauthorized users.\n",
    "- Users only see **data relevant to their role**.\n",
    "\n",
    "---\n",
    "\n",
    "## **Lab 6: Auditing and Monitoring RBAC Changes**\n",
    "### **Objective:**\n",
    "- Monitor role-based access changes using Databricks audit logs.\n",
    "\n",
    "### **Step 1: Enable Databricks Audit Logging**\n",
    "1. Navigate to **Azure Monitor** → Select **Databricks Workspace**.\n",
    "2. Enable **Audit Logs** and configure **event tracking**.\n",
    "\n",
    "### **Step 2: Review Access Logs**\n",
    "- Query **audit logs** to track unauthorized access attempts.\n",
    "\n",
    "**Expected Outcome:**\n",
    "- Logs capture **user access events** and **security policy changes**.\n",
    "\n",
    "---\n",
    "\n",
    "## **Conclusion**\n",
    "By completing these **hands-on labs**, you have learned how to:\n",
    "- **Implement RBAC in Databricks workspaces, clusters, and jobs**.\n",
    "- **Secure table access using Unity Catalog**.\n",
    "- **Enforce column- and row-level security** for data protection.\n",
    "- **Monitor and audit role-based access for compliance**.\n",
    "\n",
    "These labs provide **real-world experience** in securing **enterprise data environments using RBAC best practices**.\n"
   ]
  }
 ],
 "metadata": {
  "jupytext": {
   "cell_metadata_filter": "-all",
   "main_language": "sql",
   "notebook_metadata_filter": "-all"
  }
 },
 "nbformat": 4,
 "nbformat_minor": 5
}
