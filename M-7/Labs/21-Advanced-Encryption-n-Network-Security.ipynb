{
 "cells": [
  {
   "cell_type": "markdown",
   "id": "a614617a",
   "metadata": {
    "lines_to_next_cell": 0
   },
   "source": [
    "# **Advanced Encryption and Network Security - Hands-on Labs**\n",
    "\n",
    "## **Introduction**\n",
    "This hands-on lab document provides **detailed, step-by-step exercises** for implementing **encryption and network security** in **Databricks and cloud environments**. These labs cover:\n",
    "- **Encrypting data at rest and in transit**.\n",
    "- **Configuring secure network access for Databricks**.\n",
    "- **Implementing private networking and firewall rules**.\n",
    "- **Managing encryption keys and secrets securely**.\n",
    "\n",
    "Each lab includes **real-world examples**, **step-by-step instructions**, and **security best practices** to ensure **data confidentiality and protection**.\n",
    "\n",
    "---\n",
    "\n",
    "## **Lab 1: Enabling Data Encryption at Rest**\n",
    "### **Objective:**\n",
    "- Configure **encryption at rest** for Azure Storage and Databricks.\n",
    "\n",
    "### **Step 1: Enable Storage Account Encryption**"
   ]
  },
  {
   "cell_type": "code",
   "execution_count": null,
   "id": "830952fe",
   "metadata": {},
   "outputs": [],
   "source": [
    "az storage account update \\\n",
    "    --name mydatastore \\\n",
    "    --resource-group mygroup \\\n",
    "    --encryption-services blob,file \\\n",
    "    --encryption-key-source Microsoft.Keyvault"
   ]
  },
  {
   "cell_type": "markdown",
   "id": "b85ca76e",
   "metadata": {
    "lines_to_next_cell": 0
   },
   "source": [
    "### **Step 2: Verify Encryption Settings**"
   ]
  },
  {
   "cell_type": "code",
   "execution_count": null,
   "id": "eba49697",
   "metadata": {},
   "outputs": [],
   "source": [
    "az storage account show --name mydatastore --query \"encryption\""
   ]
  },
  {
   "cell_type": "markdown",
   "id": "7134f6f1",
   "metadata": {
    "lines_to_next_cell": 0
   },
   "source": [
    "**Expected Outcome:**\n",
    "- The storage account is **encrypted using customer-managed keys (CMK)**.\n",
    "\n",
    "---\n",
    "\n",
    "## **Lab 2: Encrypting Data in Transit**\n",
    "### **Objective:**\n",
    "- Ensure **secure data transmission** using **TLS encryption**.\n",
    "\n",
    "### **Step 1: Configure Databricks to Use Encrypted JDBC Connections**"
   ]
  },
  {
   "cell_type": "code",
   "execution_count": null,
   "id": "77f7ced9",
   "metadata": {},
   "outputs": [],
   "source": [
    "%%python\n",
    "spark.read.format(\"jdbc\").option(\"url\", \"jdbc:sqlserver://server.database.windows.net:1433;encrypt=true\")"
   ]
  },
  {
   "cell_type": "markdown",
   "id": "0ac013d1",
   "metadata": {
    "lines_to_next_cell": 0
   },
   "source": [
    "### **Step 2: Enforce TLS 1.2 for Azure Application Gateway**"
   ]
  },
  {
   "cell_type": "code",
   "execution_count": null,
   "id": "e43ee505",
   "metadata": {},
   "outputs": [],
   "source": [
    "az network application-gateway ssl-policy set \\\n",
    "    --gateway-name myGateway \\\n",
    "    --resource-group mygroup \\\n",
    "    --policy-type Predefined \\\n",
    "    --policy-name AppGwSslPolicy2022"
   ]
  },
  {
   "cell_type": "markdown",
   "id": "ebc450a8",
   "metadata": {
    "lines_to_next_cell": 0
   },
   "source": [
    "**Expected Outcome:**\n",
    "- **All data transmissions are encrypted using TLS 1.2 or higher**.\n",
    "\n",
    "---\n",
    "\n",
    "## **Lab 3: Securing Network Access to Databricks**\n",
    "### **Objective:**\n",
    "- Restrict **Databricks workspace access** to specific IP addresses.\n",
    "\n",
    "### **Step 1: Configure IP Whitelisting for Databricks**"
   ]
  },
  {
   "cell_type": "code",
   "execution_count": null,
   "id": "c4b4003a",
   "metadata": {},
   "outputs": [],
   "source": [
    "az network nsg rule create \\\n",
    "    --resource-group mygroup \\\n",
    "    --nsg-name myNSG \\\n",
    "    --name AllowSpecificIP \\\n",
    "    --priority 100 \\\n",
    "    --direction Inbound \\\n",
    "    --source-address-prefixes 10.0.0.0/16 \\\n",
    "    --destination-port-ranges 443 \\\n",
    "    --access Allow"
   ]
  },
  {
   "cell_type": "markdown",
   "id": "9d6e73cc",
   "metadata": {
    "lines_to_next_cell": 0
   },
   "source": [
    "### **Step 2: Verify Network Restrictions**\n",
    "- Attempt to **connect to Databricks from an unauthorized IP**.\n",
    "\n",
    "**Expected Outcome:**\n",
    "- **Unauthorized IPs are blocked** from accessing the Databricks workspace.\n",
    "\n",
    "---\n",
    "\n",
    "## **Lab 4: Implementing Private Link for Databricks**\n",
    "### **Objective:**\n",
    "- Ensure **Databricks traffic remains within a private network**.\n",
    "\n",
    "### **Step 1: Deploy Databricks Workspace with Private Link**"
   ]
  },
  {
   "cell_type": "code",
   "execution_count": null,
   "id": "5d84642f",
   "metadata": {},
   "outputs": [],
   "source": [
    "az databricks workspace create \\\n",
    "    --name private-databricks \\\n",
    "    --resource-group mygroup \\\n",
    "    --location eastus \\\n",
    "    --enable-no-public-ip"
   ]
  },
  {
   "cell_type": "markdown",
   "id": "51e7f160",
   "metadata": {
    "lines_to_next_cell": 0
   },
   "source": [
    "### **Step 2: Verify Private Link Configuration**"
   ]
  },
  {
   "cell_type": "code",
   "execution_count": null,
   "id": "d0072d85",
   "metadata": {},
   "outputs": [],
   "source": [
    "az network private-link-resource list --name private-databricks --resource-group mygroup"
   ]
  },
  {
   "cell_type": "markdown",
   "id": "ab6f7606",
   "metadata": {
    "lines_to_next_cell": 0
   },
   "source": [
    "**Expected Outcome:**\n",
    "- **Databricks workspace is only accessible via private networking**.\n",
    "\n",
    "---\n",
    "\n",
    "## **Lab 5: Managing Encryption Keys and Secrets**\n",
    "### **Objective:**\n",
    "- Securely **store and retrieve encryption keys and credentials**.\n",
    "\n",
    "### **Step 1: Store Secrets in Databricks**"
   ]
  },
  {
   "cell_type": "code",
   "execution_count": null,
   "id": "4b1676c8",
   "metadata": {
    "lines_to_next_cell": 0
   },
   "outputs": [],
   "source": [
    "databricks secrets create-scope --scope mysecrets"
   ]
  },
  {
   "cell_type": "code",
   "execution_count": null,
   "id": "f6dbea99",
   "metadata": {},
   "outputs": [],
   "source": [
    "%%python\n",
    "from pyspark.sql import SparkSession\n",
    "spark.conf.set(\"fs.azure.account.key.mydatastore.blob.core.windows.net\", dbutils.secrets.get(scope=\"mysecrets\", key=\"storage-key\"))"
   ]
  },
  {
   "cell_type": "markdown",
   "id": "db9a885c",
   "metadata": {},
   "source": [
    "### **Step 2: Validate Secure Access**\n",
    "- Attempt to **access secrets without proper permissions**.\n",
    "\n",
    "**Expected Outcome:**\n",
    "- Unauthorized users **cannot retrieve secrets or access sensitive data**.\n",
    "\n",
    "---\n",
    "\n",
    "## **Conclusion**\n",
    "By completing these **hands-on labs**, you have learned how to:\n",
    "- **Enable encryption for data at rest and in transit**.\n",
    "- **Secure Databricks workspaces using network policies and private links**.\n",
    "- **Manage secrets and encryption keys safely**.\n",
    "- **Enforce security best practices to protect cloud-based data**.\n",
    "\n",
    "These labs provide **real-world experience** in implementing **enterprise-grade security** for Databricks and cloud environments.\n"
   ]
  }
 ],
 "metadata": {
  "jupytext": {
   "cell_metadata_filter": "-all",
   "main_language": "bash",
   "notebook_metadata_filter": "-all"
  }
 },
 "nbformat": 4,
 "nbformat_minor": 5
}
